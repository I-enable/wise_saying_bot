{
  "nbformat": 4,
  "nbformat_minor": 0,
  "metadata": {
    "colab": {
      "name": "wise_saying_bot.ipynb",
      "provenance": [],
      "collapsed_sections": [],
      "authorship_tag": "ABX9TyMMykGXms1ztDOx8aeOusBd",
      "include_colab_link": true
    },
    "kernelspec": {
      "name": "python3",
      "display_name": "Python 3"
    },
    "language_info": {
      "name": "python"
    }
  },
  "cells": [
    {
      "cell_type": "markdown",
      "metadata": {
        "id": "view-in-github",
        "colab_type": "text"
      },
      "source": [
        "<a href=\"https://colab.research.google.com/github/I-enable/wise_saying_bot/blob/main/wise_saying_bot.ipynb\" target=\"_parent\"><img src=\"https://colab.research.google.com/assets/colab-badge.svg\" alt=\"Open In Colab\"/></a>"
      ]
    },
    {
      "cell_type": "code",
      "execution_count": 1,
      "metadata": {
        "id": "sCZ5TAuxQtsj"
      },
      "outputs": [],
      "source": [
        "import requests\n",
        "import json"
      ]
    },
    {
      "cell_type": "code",
      "source": [
        "ment = input(\"듣고싶은 인공지능 명언을 입력하세요 ex) 열정, 공부 등등 :\")\n",
        "\n",
        "url = 'https://train-fphumklr7fwiua6ce7p8-gpt2-train-teachable-ainize.endpoint.ainize.ai/predictions/gpt-2-ko-small-finetune'\n",
        "headers = {'Content-Type': 'application/json'}\n",
        "data = {\"text\": ment, \"num_samples\":5, \"length\":13}\n",
        "res = requests.post(url, headers=headers, data=json.dumps(data))\n",
        "res.json()\n",
        "\n",
        "result = res.json()\n",
        "end = result[0].find(\"\\n\")\n",
        "\n",
        "if end == -1:\n",
        "  print(result[0], \"- robot\")\n",
        "else:\n",
        "  print(result[0][0:end], \"- robot\")\n"
      ],
      "metadata": {
        "colab": {
          "base_uri": "https://localhost:8080/"
        },
        "id": "m89CgveOQ_Rs",
        "outputId": "a0a426d0-3f0e-4304-9f08-224b72378c75"
      },
      "execution_count": 39,
      "outputs": [
        {
          "output_type": "stream",
          "name": "stdout",
          "text": [
            "듣고싶은 인공지능 명언을 입력하세요 ex) 열정, 공부 등등 :행복\n",
            "행복이 있거늘 나를 믿어라. 우리 자신만이 행복하다. - robot\n"
          ]
        }
      ]
    },
    {
      "cell_type": "code",
      "source": [
        ""
      ],
      "metadata": {
        "id": "eSgZ-uVlTNS1"
      },
      "execution_count": null,
      "outputs": []
    }
  ]
}